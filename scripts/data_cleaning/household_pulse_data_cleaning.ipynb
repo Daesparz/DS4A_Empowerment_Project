{
 "cells": [
  {
   "cell_type": "markdown",
   "metadata": {},
   "source": [
    "# 1. Data Cleaning Process Household Pulse Survey"
   ]
  },
  {
   "cell_type": "code",
   "execution_count": 1,
   "metadata": {},
   "outputs": [],
   "source": [
    "import pandas as pd\n",
    "import constants\n",
    "import os\n",
    "import numpy as np"
   ]
  },
  {
   "cell_type": "code",
   "execution_count": 2,
   "metadata": {},
   "outputs": [],
   "source": [
    "base_name='pulse2020_puf_'\n",
    "df_lists=[]\n",
    "\n",
    "for f in os.listdir('../../data/household/raw'):\n",
    "    if base_name in f:\n",
    "        data=pd.read_csv(os.path.join('../../data/household/raw',f), index_col=False)\n",
    "        df_lists.append(data)"
   ]
  },
  {
   "cell_type": "code",
   "execution_count": 3,
   "metadata": {},
   "outputs": [
    {
     "data": {
      "text/html": [
       "<div>\n",
       "<style scoped>\n",
       "    .dataframe tbody tr th:only-of-type {\n",
       "        vertical-align: middle;\n",
       "    }\n",
       "\n",
       "    .dataframe tbody tr th {\n",
       "        vertical-align: top;\n",
       "    }\n",
       "\n",
       "    .dataframe thead th {\n",
       "        text-align: right;\n",
       "    }\n",
       "</style>\n",
       "<table border=\"1\" class=\"dataframe\">\n",
       "  <thead>\n",
       "    <tr style=\"text-align: right;\">\n",
       "      <th></th>\n",
       "      <th>SCRAM</th>\n",
       "      <th>WEEK</th>\n",
       "      <th>EST_ST</th>\n",
       "      <th>EST_MSA</th>\n",
       "      <th>PWEIGHT</th>\n",
       "      <th>TBIRTH_YEAR</th>\n",
       "      <th>ABIRTH_YEAR</th>\n",
       "      <th>EGENDER</th>\n",
       "      <th>AGENDER</th>\n",
       "      <th>RHISPANIC</th>\n",
       "      <th>...</th>\n",
       "      <th>COMP1</th>\n",
       "      <th>COMP2</th>\n",
       "      <th>COMP3</th>\n",
       "      <th>INTRNTAVAIL</th>\n",
       "      <th>INTRNT1</th>\n",
       "      <th>INTRNT2</th>\n",
       "      <th>INTRNT3</th>\n",
       "      <th>TSCHLHRS</th>\n",
       "      <th>TTCH_HRS</th>\n",
       "      <th>INCOME</th>\n",
       "    </tr>\n",
       "  </thead>\n",
       "  <tbody>\n",
       "    <tr>\n",
       "      <th>0</th>\n",
       "      <td>V030000001S52011391390122</td>\n",
       "      <td>5</td>\n",
       "      <td>1</td>\n",
       "      <td>NaN</td>\n",
       "      <td>1239.935394</td>\n",
       "      <td>1973</td>\n",
       "      <td>2</td>\n",
       "      <td>1</td>\n",
       "      <td>2</td>\n",
       "      <td>1</td>\n",
       "      <td>...</td>\n",
       "      <td>-88</td>\n",
       "      <td>-88</td>\n",
       "      <td>-88</td>\n",
       "      <td>-88</td>\n",
       "      <td>-88</td>\n",
       "      <td>-88</td>\n",
       "      <td>-88</td>\n",
       "      <td>-88.0</td>\n",
       "      <td>-88.0</td>\n",
       "      <td>3</td>\n",
       "    </tr>\n",
       "    <tr>\n",
       "      <th>1</th>\n",
       "      <td>V030000002S02020543300112</td>\n",
       "      <td>5</td>\n",
       "      <td>2</td>\n",
       "      <td>NaN</td>\n",
       "      <td>196.842234</td>\n",
       "      <td>1973</td>\n",
       "      <td>2</td>\n",
       "      <td>2</td>\n",
       "      <td>2</td>\n",
       "      <td>1</td>\n",
       "      <td>...</td>\n",
       "      <td>-99</td>\n",
       "      <td>1</td>\n",
       "      <td>-99</td>\n",
       "      <td>1</td>\n",
       "      <td>-99</td>\n",
       "      <td>1</td>\n",
       "      <td>-99</td>\n",
       "      <td>0.0</td>\n",
       "      <td>0.0</td>\n",
       "      <td>8</td>\n",
       "    </tr>\n",
       "    <tr>\n",
       "      <th>2</th>\n",
       "      <td>V030000002S02020880630122</td>\n",
       "      <td>5</td>\n",
       "      <td>2</td>\n",
       "      <td>NaN</td>\n",
       "      <td>295.425365</td>\n",
       "      <td>1951</td>\n",
       "      <td>2</td>\n",
       "      <td>1</td>\n",
       "      <td>2</td>\n",
       "      <td>2</td>\n",
       "      <td>...</td>\n",
       "      <td>-88</td>\n",
       "      <td>-88</td>\n",
       "      <td>-88</td>\n",
       "      <td>-88</td>\n",
       "      <td>-88</td>\n",
       "      <td>-88</td>\n",
       "      <td>-88</td>\n",
       "      <td>-88.0</td>\n",
       "      <td>-88.0</td>\n",
       "      <td>-88</td>\n",
       "    </tr>\n",
       "    <tr>\n",
       "      <th>3</th>\n",
       "      <td>V030000002S02020999610122</td>\n",
       "      <td>5</td>\n",
       "      <td>2</td>\n",
       "      <td>NaN</td>\n",
       "      <td>1088.296594</td>\n",
       "      <td>1983</td>\n",
       "      <td>2</td>\n",
       "      <td>1</td>\n",
       "      <td>2</td>\n",
       "      <td>1</td>\n",
       "      <td>...</td>\n",
       "      <td>-99</td>\n",
       "      <td>1</td>\n",
       "      <td>-99</td>\n",
       "      <td>1</td>\n",
       "      <td>-99</td>\n",
       "      <td>1</td>\n",
       "      <td>-99</td>\n",
       "      <td>0.0</td>\n",
       "      <td>0.0</td>\n",
       "      <td>6</td>\n",
       "    </tr>\n",
       "    <tr>\n",
       "      <th>4</th>\n",
       "      <td>V030000005S58050092940112</td>\n",
       "      <td>5</td>\n",
       "      <td>5</td>\n",
       "      <td>NaN</td>\n",
       "      <td>20476.738688</td>\n",
       "      <td>1960</td>\n",
       "      <td>2</td>\n",
       "      <td>1</td>\n",
       "      <td>2</td>\n",
       "      <td>1</td>\n",
       "      <td>...</td>\n",
       "      <td>-88</td>\n",
       "      <td>-88</td>\n",
       "      <td>-88</td>\n",
       "      <td>-88</td>\n",
       "      <td>-88</td>\n",
       "      <td>-88</td>\n",
       "      <td>-88</td>\n",
       "      <td>-88.0</td>\n",
       "      <td>-88.0</td>\n",
       "      <td>2</td>\n",
       "    </tr>\n",
       "  </tbody>\n",
       "</table>\n",
       "<p>5 rows × 82 columns</p>\n",
       "</div>"
      ],
      "text/plain": [
       "                       SCRAM  WEEK  EST_ST  EST_MSA       PWEIGHT  \\\n",
       "0  V030000001S52011391390122     5       1      NaN   1239.935394   \n",
       "1  V030000002S02020543300112     5       2      NaN    196.842234   \n",
       "2  V030000002S02020880630122     5       2      NaN    295.425365   \n",
       "3  V030000002S02020999610122     5       2      NaN   1088.296594   \n",
       "4  V030000005S58050092940112     5       5      NaN  20476.738688   \n",
       "\n",
       "   TBIRTH_YEAR  ABIRTH_YEAR  EGENDER  AGENDER  RHISPANIC   ...    COMP1  \\\n",
       "0         1973            2        1        2          1   ...      -88   \n",
       "1         1973            2        2        2          1   ...      -99   \n",
       "2         1951            2        1        2          2   ...      -88   \n",
       "3         1983            2        1        2          1   ...      -99   \n",
       "4         1960            2        1        2          1   ...      -88   \n",
       "\n",
       "   COMP2  COMP3  INTRNTAVAIL  INTRNT1  INTRNT2  INTRNT3  TSCHLHRS  TTCH_HRS  \\\n",
       "0    -88    -88          -88      -88      -88      -88     -88.0     -88.0   \n",
       "1      1    -99            1      -99        1      -99       0.0       0.0   \n",
       "2    -88    -88          -88      -88      -88      -88     -88.0     -88.0   \n",
       "3      1    -99            1      -99        1      -99       0.0       0.0   \n",
       "4    -88    -88          -88      -88      -88      -88     -88.0     -88.0   \n",
       "\n",
       "   INCOME  \n",
       "0       3  \n",
       "1       8  \n",
       "2     -88  \n",
       "3       6  \n",
       "4       2  \n",
       "\n",
       "[5 rows x 82 columns]"
      ]
     },
     "execution_count": 3,
     "metadata": {},
     "output_type": "execute_result"
    }
   ],
   "source": [
    "df_lists[0].head()"
   ]
  },
  {
   "cell_type": "markdown",
   "metadata": {},
   "source": [
    "### 1. Studying the dataset\n",
    "\n",
    "Public Use Data File (PUF) includes a replicate weight data file, and a data dictionary for every new release of the survey. The shape of the dataset has changed over time, depending on the number of surveyed people and the addition of new variables. \n",
    "\n",
    "#### Features\n",
    "- 17 weeks, from April 23 to October 26\n",
    "- Surveyed people between 50k-100k per survey\n",
    "- Variables between 82 to 188\n",
    "- Demographic variables\n",
    "- Index variables: SCRAM (ID) and WEEK\n",
    "- Spending variables\n",
    "- Food variables\n",
    "- Shopping variables\n",
    "- Telework variables\n",
    "- Trips variables\n",
    "- Health variables\n",
    "- Work variables\n",
    "- Missing data designed as -88 and -99\n",
    "- Mostly categorical data\n",
    "- Require use of data dictionary to interpretate the name of columns and categories\n",
    "\n",
    "Some interesting variables related to the spending of the stimulus payment can be found during weeks 7 to 12 from Phase 1 of the Survey and difficulty with expenditures and changes in shopping patterns are part of the new questions incorporated in Phase 2, from week 13 onwards. Although spending and shopping variables are not asked simultaneously to the population, they offer valious insights for our study as the survey tries to be representative along demographic variables. and they are pre-processed separately."
   ]
  },
  {
   "cell_type": "code",
   "execution_count": 4,
   "metadata": {},
   "outputs": [
    {
     "name": "stdout",
     "output_type": "stream",
     "text": [
      "(105066, 82)\n",
      "(91605, 105)\n",
      "(90767, 105)\n",
      "(101215, 82)\n",
      "(86792, 105)\n",
      "(83302, 84)\n",
      "(73472, 105)\n",
      "(109051, 188)\n",
      "(88716, 188)\n",
      "(132961, 82)\n",
      "(41996, 82)\n",
      "(95604, 188)\n",
      "(110019, 188)\n",
      "(99302, 188)\n",
      "(74413, 82)\n",
      "(98663, 105)\n",
      "(108062, 105)\n"
     ]
    }
   ],
   "source": [
    "for df in df_lists:\n",
    "    print(df.shape)"
   ]
  },
  {
   "cell_type": "code",
   "execution_count": 5,
   "metadata": {},
   "outputs": [
    {
     "name": "stdout",
     "output_type": "stream",
     "text": [
      "<class 'pandas.core.frame.DataFrame'>\n",
      "RangeIndex: 105066 entries, 0 to 105065\n",
      "Data columns (total 82 columns):\n",
      "SCRAM            105066 non-null object\n",
      "WEEK             105066 non-null int64\n",
      "EST_ST           105066 non-null int64\n",
      "EST_MSA          31955 non-null float64\n",
      "PWEIGHT          105066 non-null float64\n",
      "TBIRTH_YEAR      105066 non-null int64\n",
      "ABIRTH_YEAR      105066 non-null int64\n",
      "EGENDER          105066 non-null int64\n",
      "AGENDER          105066 non-null int64\n",
      "RHISPANIC        105066 non-null int64\n",
      "AHISPANIC        105066 non-null int64\n",
      "RRACE            105066 non-null int64\n",
      "ARACE            105066 non-null int64\n",
      "EEDUC            105066 non-null int64\n",
      "AEDUC            105066 non-null int64\n",
      "MS               105066 non-null int64\n",
      "THHLD_NUMPER     105066 non-null int64\n",
      "AHHLD_NUMPER     105066 non-null int64\n",
      "THHLD_NUMKID     105066 non-null int64\n",
      "AHHLD_NUMKID     105066 non-null int64\n",
      "THHLD_NUMADLT    105066 non-null int64\n",
      "WRKLOSS          105066 non-null int64\n",
      "EXPCTLOSS        105066 non-null int64\n",
      "ANYWORK          105066 non-null int64\n",
      "KINDWORK         105066 non-null int64\n",
      "RSNNOWRK         105066 non-null int64\n",
      "UNEMPPAY         105066 non-null int64\n",
      "PRIFOODSUF       105066 non-null int64\n",
      "CURFOODSUF       105066 non-null int64\n",
      "FOODSUFRSN1      105066 non-null int64\n",
      "FOODSUFRSN2      105066 non-null int64\n",
      "FOODSUFRSN3      105066 non-null int64\n",
      "FOODSUFRSN4      105066 non-null int64\n",
      "FOODSUFRSN5      105066 non-null int64\n",
      "FREEFOOD         105066 non-null int64\n",
      "WHEREFREE1       105066 non-null int64\n",
      "WHEREFREE2       105066 non-null int64\n",
      "WHEREFREE3       105066 non-null int64\n",
      "WHEREFREE4       105066 non-null int64\n",
      "WHEREFREE5       105066 non-null int64\n",
      "WHEREFREE6       105066 non-null int64\n",
      "WHEREFREE7       105066 non-null int64\n",
      "TSPNDFOOD        105066 non-null int64\n",
      "TSPNDPRPD        105066 non-null int64\n",
      "FOODCONF         105066 non-null int64\n",
      "HLTHSTATUS       105066 non-null int64\n",
      "ANXIOUS          105066 non-null int64\n",
      "WORRY            105066 non-null int64\n",
      "INTEREST         105066 non-null int64\n",
      "DOWN             105066 non-null int64\n",
      "HLTHINS1         105066 non-null int64\n",
      "HLTHINS2         105066 non-null int64\n",
      "HLTHINS3         105066 non-null int64\n",
      "HLTHINS4         105066 non-null int64\n",
      "HLTHINS5         105066 non-null int64\n",
      "HLTHINS6         105066 non-null int64\n",
      "HLTHINS7         105066 non-null int64\n",
      "HLTHINS8         105066 non-null int64\n",
      "DELAY            105066 non-null int64\n",
      "NOTGET           105066 non-null int64\n",
      "TENURE           105066 non-null int64\n",
      "MORTLMTH         105066 non-null int64\n",
      "MORTCONF         105066 non-null int64\n",
      "ENROLL1          105066 non-null int64\n",
      "ENROLL2          105066 non-null int64\n",
      "ENROLL3          105066 non-null int64\n",
      "TEACH1           105066 non-null int64\n",
      "TEACH2           105066 non-null int64\n",
      "TEACH3           105066 non-null int64\n",
      "TEACH4           105066 non-null int64\n",
      "TEACH5           105066 non-null int64\n",
      "COMPAVAIL        105066 non-null int64\n",
      "COMP1            105066 non-null int64\n",
      "COMP2            105066 non-null int64\n",
      "COMP3            105066 non-null int64\n",
      "INTRNTAVAIL      105066 non-null int64\n",
      "INTRNT1          105066 non-null int64\n",
      "INTRNT2          105066 non-null int64\n",
      "INTRNT3          105066 non-null int64\n",
      "TSCHLHRS         105066 non-null float64\n",
      "TTCH_HRS         105066 non-null float64\n",
      "INCOME           105066 non-null int64\n",
      "dtypes: float64(4), int64(77), object(1)\n",
      "memory usage: 65.7+ MB\n"
     ]
    }
   ],
   "source": [
    "df_lists[0].info()"
   ]
  },
  {
   "cell_type": "markdown",
   "metadata": {},
   "source": [
    "### 2. Keeping relevant variables: Spending and Shopping"
   ]
  },
  {
   "cell_type": "code",
   "execution_count": 6,
   "metadata": {},
   "outputs": [],
   "source": [
    "rel_var = constants.ID_VAR + constants.WEEK_VAR + constants.DEMOGRAPHICS_VARS + constants.EIP_VARS + constants.SHOPPING_VARS + constants.TRIPS_VAR"
   ]
  },
  {
   "cell_type": "code",
   "execution_count": 7,
   "metadata": {},
   "outputs": [
    {
     "data": {
      "text/plain": [
       "58"
      ]
     },
     "execution_count": 7,
     "metadata": {},
     "output_type": "execute_result"
    }
   ],
   "source": [
    "len(rel_var)"
   ]
  },
  {
   "cell_type": "code",
   "execution_count": 8,
   "metadata": {},
   "outputs": [],
   "source": [
    "df_lists1 = []\n",
    "\n",
    "for df in df_lists:\n",
    "    df_copy = df.copy()\n",
    "    for col in df_copy.columns:\n",
    "        if col not in rel_var:\n",
    "            df_copy.drop(columns=col, inplace=True)\n",
    "    df_lists1.append(df_copy)"
   ]
  },
  {
   "cell_type": "markdown",
   "metadata": {},
   "source": [
    "### Spending variables"
   ]
  },
  {
   "cell_type": "markdown",
   "metadata": {},
   "source": [
    "1. EIP: Use of Economic Impact Payment (Stimulus)\n",
    "    - Pay for expenses\n",
    "    - Pay off debt\n",
    "    - Add to savings\n",
    "    - NA\n",
    "2. EIPSPND: Spending use of Economic Impact Payment (Stimulus)\n",
    "    - Food (groceries, eating out, take out)\n",
    "    - Clothing, household supplies, household items, recreational, rent, mortgage, vehicle, saving or investments, charitable, credit card, loans, others.\n",
    "    - Spending categories are not mutually excluyent.\n",
    "    \n",
    "For EDA, percent change of\n",
    "- EIPSPND split by food and others (weekly and grouping by demographics)\n",
    "- EIP split by food and others (weekly and grouping by demographics)"
   ]
  },
  {
   "cell_type": "code",
   "execution_count": 9,
   "metadata": {},
   "outputs": [],
   "source": [
    "df_spending = pd.DataFrame()\n",
    "for df in df_lists1:\n",
    "    if 'EIP' in df.columns:\n",
    "        df_spending = pd.concat([df_spending, df])"
   ]
  },
  {
   "cell_type": "code",
   "execution_count": 10,
   "metadata": {},
   "outputs": [
    {
     "name": "stdout",
     "output_type": "stream",
     "text": [
      "<class 'pandas.core.frame.DataFrame'>\n",
      "Int64Index: 549361 entries, 0 to 108061\n",
      "Data columns (total 28 columns):\n",
      "SCRAM            549361 non-null object\n",
      "WEEK             549361 non-null int64\n",
      "EST_ST           549361 non-null int64\n",
      "EST_MSA          167813 non-null float64\n",
      "TBIRTH_YEAR      549361 non-null int64\n",
      "EGENDER          549361 non-null int64\n",
      "RHISPANIC        549361 non-null int64\n",
      "RRACE            549361 non-null int64\n",
      "EEDUC            549361 non-null int64\n",
      "MS               549361 non-null int64\n",
      "THHLD_NUMPER     549361 non-null int64\n",
      "THHLD_NUMKID     549361 non-null int64\n",
      "THHLD_NUMADLT    549361 non-null int64\n",
      "EIP              549361 non-null int64\n",
      "EIPSPND1         549361 non-null int64\n",
      "EIPSPND2         549361 non-null int64\n",
      "EIPSPND3         549361 non-null int64\n",
      "EIPSPND4         549361 non-null int64\n",
      "EIPSPND5         549361 non-null int64\n",
      "EIPSPND6         549361 non-null int64\n",
      "EIPSPND7         549361 non-null int64\n",
      "EIPSPND8         549361 non-null int64\n",
      "EIPSPND9         549361 non-null int64\n",
      "EIPSPND10        549361 non-null int64\n",
      "EIPSPND11        549361 non-null int64\n",
      "EIPSPND12        549361 non-null int64\n",
      "EIPSPND13        549361 non-null int64\n",
      "INCOME           549361 non-null int64\n",
      "dtypes: float64(1), int64(26), object(1)\n",
      "memory usage: 121.5+ MB\n"
     ]
    }
   ],
   "source": [
    "df_spending.info()"
   ]
  },
  {
   "cell_type": "markdown",
   "metadata": {},
   "source": [
    "Save in interim folder:"
   ]
  },
  {
   "cell_type": "code",
   "execution_count": 11,
   "metadata": {},
   "outputs": [],
   "source": [
    "#df_spending.to_csv('../../data/household/interim/household_spending.csv', index = False)"
   ]
  },
  {
   "cell_type": "markdown",
   "metadata": {},
   "source": [
    "### Shopping variables: Expenditures and changes in shopping behaviors"
   ]
  },
  {
   "cell_type": "markdown",
   "metadata": {},
   "source": [
    "1. EXPNS_DIF: Difficulty with expenses\n",
    "    - Not at all difficult\n",
    "    - A little difficult\n",
    "    - Somewhat difficult\n",
    "    - Very difficult\n",
    "    \n",
    "    \n",
    "2. CHNGHOW1-CHNGHOW12: Spending and shopping change\n",
    "    - Purchases modality\n",
    "        - More purchases online (as opposed to in store)\n",
    "        - More purchases by curbside pick-up (as opposed to in store)\n",
    "        - More purchases in-store (as opposed to purchases online or curbside pick-up)\n",
    "    - Cash/credit card\n",
    "        - Increased use of credit cards or smartphone apps for purchases instead of cash\n",
    "        - Increased use of cash     \n",
    "    - Restaurants\n",
    "        - Avoided eating at restaurants\n",
    "        - Resumed eating at restaurants\n",
    "        \n",
    "        \n",
    "3. WHYCHNGD1-WHYCHNGD13: Why spending change?\n",
    "\n",
    "\n",
    "4. SPNDSRC8: Use of SNAP (Nutrition Assistance Program) as source of income for spending needs\n",
    "\n",
    "\n",
    "5. FEWRTRIPS, FEWRTRANS: Fewer trips to stores and trips transit"
   ]
  },
  {
   "cell_type": "code",
   "execution_count": 12,
   "metadata": {},
   "outputs": [],
   "source": [
    "num=0\n",
    "\n",
    "for df in df_lists1:\n",
    "    if 'WHYCHNGD1' in df.columns:\n",
    "        num+=1\n",
    "        df.to_csv('../../data/household/interim/household_shopping'+str(num)+'.csv', index = False)"
   ]
  },
  {
   "cell_type": "markdown",
   "metadata": {},
   "source": [
    "### 3. Keeping relevant variables: Food Sufficiency\n",
    "\n",
    "\n",
    "The use of food stamps at restaurants (April 28, 2020)\n",
    "\n",
    "Source: https://www.washingtonpost.com/news/voraciously/wp/2020/04/28/democrats-want-to-let-millions-more-americans-use-their-food-stamps-at-restaurants/\n",
    "\n",
    "A bill introduced in Congress on Tuesday would expand an underused part of the food stamps program to help feed millions of out-of-work Americans while assisting restaurants across the country that are struggling to survive a pandemic that has dramatically reduced their revenues or shut them down altogether.\n",
    "\n",
    "Sen. Chris Murphy (D-Conn.) and Rep. Jimmy Panetta (D-Calif.) introduced legislation in their respective chambers to expand the Restaurant Meals Program, a little-known initiative that allows seniors, disabled and homeless people to use their Supplemental Nutrition Assistance Program (SNAP) benefits to purchase discounted restaurant meals because these folks often can’t cook for themselves or don’t have access to a kitchen. The RMP is voluntary for states, and to date, only about three use the program, including California, Arizona and Rhode Island. The low participation rate, in part, reflects the public health concern that fast-food chains would mostly sign up for the program, affecting the well-being of the people who receive benefits, Murphy said.\n",
    "\n",
    "But as the unemployment rate swells, as grocery store shelves grow more depleted and as public transportation continues to pose a threat for low-income Americans who need it to visit supermarkets, states have been looking to SNAP for solutions. Governors in Louisiana and Texas have both said they would like to see the RMP expanded to feed their citizens and to bolster the hobbled hospitality industry. This month, several groups, including the National Council of Chain Restaurants and the National Restaurant Association, wrote to the U.S. Agriculture Department to recommend that Secretary Sonny Perdue open the RMP to more SNAP recipients and more restaurants.\n",
    "\n",
    "### Food Variables\n",
    "\n",
    "\n",
    "1. FOODSUFRSN1-FOODSUFRSN5: Why did you not have enough to eat?\n",
    "    - Couldn't afford to buy more food\n",
    "    - Couldn’t get out to buy food (for example, didn’t have transportation, or had mobility or health problems that prevented you from getting out)  \n",
    "    - Afraid to go or didn’t want to go out to buy food\n",
    "    - Couldn’t get groceries or meals delivered to me\n",
    "    - The stores didn’t have the food I wanted\n",
    "    \n",
    "2. FREEFOOD\n",
    "\n",
    "\n",
    "3. WHEREFREE1-WHEREFREE7: Where did you get free groceries or free? No mentions to the Restaurant Meals Program\n",
    "\n",
    "\n",
    "4. SNAP_YN: SNAP Receipt\n",
    "\n",
    "\n",
    "5. PRIFOODSUF, CURFOODSUF, CHILDFOOD\n",
    "\n",
    "Ideas for EDA: explore the use of SNAP in the cities and the food sufficiency to answer the following questions:\n",
    "- How much people receive SNAP benefits?\n",
    "- How much people don't get enough food or the food they want and why? People that can't get out to buy or they are afraid are targets for delivery. How much delivery services the city needs?\n",
    "- Distribution of people for type of free groceries. How much people receive SNAP related to the entire universe of people getting free meals from family, communities, churches, temples, food pantries, school programs?"
   ]
  },
  {
   "cell_type": "code",
   "execution_count": 15,
   "metadata": {},
   "outputs": [],
   "source": [
    "rel_var1 = constants.ID_VAR + constants.WEEK_VAR + constants.DEMOGRAPHICS_VARS + constants.FOOD_VARS"
   ]
  },
  {
   "cell_type": "markdown",
   "metadata": {},
   "source": [
    "FOOD VARIABLES are in all the datasets and the combination and merge of them is going to be done for EDA purposes as needed. "
   ]
  },
  {
   "cell_type": "code",
   "execution_count": null,
   "metadata": {},
   "outputs": [],
   "source": []
  }
 ],
 "metadata": {
  "kernelspec": {
   "display_name": "Python 3",
   "language": "python",
   "name": "python3"
  },
  "language_info": {
   "codemirror_mode": {
    "name": "ipython",
    "version": 3
   },
   "file_extension": ".py",
   "mimetype": "text/x-python",
   "name": "python",
   "nbconvert_exporter": "python",
   "pygments_lexer": "ipython3",
   "version": "3.6.7"
  }
 },
 "nbformat": 4,
 "nbformat_minor": 2
}

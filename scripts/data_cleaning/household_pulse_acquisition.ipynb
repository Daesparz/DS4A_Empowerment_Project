{
 "cells": [
  {
   "cell_type": "code",
   "execution_count": 1,
   "metadata": {},
   "outputs": [],
   "source": [
    "import urllib.request\n",
    "from zipfile import ZipFile\n",
    "import pandas as pd"
   ]
  },
  {
   "cell_type": "code",
   "execution_count": 2,
   "metadata": {},
   "outputs": [],
   "source": [
    "from data_cleaning_household import load_combined_raw_data\n",
    "import constants"
   ]
  },
  {
   "cell_type": "code",
   "execution_count": 3,
   "metadata": {},
   "outputs": [],
   "source": [
    "import requests\n",
    "from bs4 import BeautifulSoup\n",
    "\n",
    "URL = 'https://www.census.gov/programs-surveys/household-pulse-survey/datasets.html'\n",
    "page = requests.get(URL)\n",
    "\n",
    "soup = BeautifulSoup(page.content, 'html.parser')"
   ]
  },
  {
   "cell_type": "code",
   "execution_count": 4,
   "metadata": {},
   "outputs": [],
   "source": [
    "python_jobs = soup.find_all('a', class_='uscb-layout-align-start-start')\n",
    "url_list = []\n",
    "for p_job in python_jobs:\n",
    "    if p_job.has_attr('href') and 'CSV' in p_job['href']:\n",
    "        url_list.append(p_job.get('href'))\n",
    "#         print(p_job.get('href'))"
   ]
  },
  {
   "cell_type": "code",
   "execution_count": 5,
   "metadata": {},
   "outputs": [
    {
     "name": "stdout",
     "output_type": "stream",
     "text": [
      "Opening the following file: pulse2020_puf_17.csv\n",
      "Saving the following file: pulse2020_puf_17.csv\n",
      "Opening the following file: pulse2020_puf_16.csv\n",
      "Saving the following file: pulse2020_puf_16.csv\n",
      "Opening the following file: pulse2020_puf_15.csv\n",
      "Saving the following file: pulse2020_puf_15.csv\n",
      "Opening the following file: pulse2020_puf_14.csv\n",
      "Saving the following file: pulse2020_puf_14.csv\n",
      "Opening the following file: pulse2020_puf_13.csv\n",
      "Saving the following file: pulse2020_puf_13.csv\n",
      "Opening the following file: pulse2020_puf_12.csv\n",
      "Saving the following file: pulse2020_puf_12.csv\n",
      "Opening the following file: pulse2020_puf_11.csv\n",
      "Saving the following file: pulse2020_puf_11.csv\n",
      "Opening the following file: pulse2020_puf_10.csv\n",
      "Saving the following file: pulse2020_puf_10.csv\n",
      "Opening the following file: pulse2020_puf_09.csv\n",
      "Saving the following file: pulse2020_puf_09.csv\n",
      "Opening the following file: pulse2020_puf_08.csv\n",
      "Saving the following file: pulse2020_puf_08.csv\n",
      "Opening the following file: pulse2020_puf_07.csv\n",
      "Saving the following file: pulse2020_puf_07.csv\n",
      "Opening the following file: pulse2020_puf_06.csv\n",
      "Saving the following file: pulse2020_puf_06.csv\n",
      "Opening the following file: pulse2020_puf_05.csv\n",
      "Saving the following file: pulse2020_puf_05.csv\n",
      "Opening the following file: pulse2020_puf_04.csv\n",
      "Saving the following file: pulse2020_puf_04.csv\n",
      "Opening the following file: pulse2020_puf_03.csv\n",
      "Saving the following file: pulse2020_puf_03.csv\n",
      "Opening the following file: pulse2020_puf_02.csv\n",
      "Saving the following file: pulse2020_puf_02.csv\n",
      "Opening the following file: pulse2020_puf_01.csv\n",
      "Saving the following file: pulse2020_puf_01.csv\n"
     ]
    }
   ],
   "source": [
    "for i in range(len(url_list)):\n",
    "    linkToFile = 'http:'+ url_list[i]\n",
    "\n",
    "    localDestination = \"../data/household/source/\"+url_list[i].split(\"Week\")[1]\n",
    "\n",
    "    resultFilePath, responseHeaders = urllib.request.urlretrieve(linkToFile, localDestination)\n",
    "    zf = ZipFile(resultFilePath) \n",
    "    \n",
    "    print('Opening the following file: pulse2020_puf_'+localDestination[25:27]+'.csv')\n",
    "\n",
    "    df = pd.read_csv(zf.open('pulse2020_puf_'+localDestination[25:27]+'.csv'))\n",
    "    \n",
    "    print('Saving the following file: pulse2020_puf_'+localDestination[25:27]+'.csv')\n",
    "    df.to_csv('../data/household/raw/pulse2020_puf_'+localDestination[25:27]+'.csv', index=False)"
   ]
  },
  {
   "cell_type": "code",
   "execution_count": null,
   "metadata": {},
   "outputs": [],
   "source": []
  }
 ],
 "metadata": {
  "kernelspec": {
   "display_name": "Python 3",
   "language": "python",
   "name": "python3"
  },
  "language_info": {
   "codemirror_mode": {
    "name": "ipython",
    "version": 3
   },
   "file_extension": ".py",
   "mimetype": "text/x-python",
   "name": "python",
   "nbconvert_exporter": "python",
   "pygments_lexer": "ipython3",
   "version": "3.6.7"
  }
 },
 "nbformat": 4,
 "nbformat_minor": 2
}
